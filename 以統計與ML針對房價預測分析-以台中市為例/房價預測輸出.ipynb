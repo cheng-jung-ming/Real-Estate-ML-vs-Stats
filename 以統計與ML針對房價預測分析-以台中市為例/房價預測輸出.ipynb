{
 "cells": [
  {
   "cell_type": "code",
   "execution_count": 6,
   "id": "679a2d41-4795-46ee-ba2e-4130f33ea63a",
   "metadata": {
    "tags": []
   },
   "outputs": [
    {
     "name": "stdout",
     "output_type": "stream",
     "text": [
      "                   /預售屋/土地位置建物門牌  /預售屋/土地移轉總面積平方公尺  /預售屋/土地移轉總面積平方公尺/#agg  \\\n",
      "0                     臺中市北屯區祥順一街            105.70                 105.70   \n",
      "1      臺中市新社區水底寮段上水底寮小段213地號等18筆            113.73                 113.73   \n",
      "2              臺中市豐原區鎌村路107巷102弄             20.89                  20.89   \n",
      "3              臺中市豐原區鎌村路107巷102弄             20.74                  20.74   \n",
      "4                      臺中市梧棲區中華路             24.02                  24.02   \n",
      "...                          ...               ...                    ...   \n",
      "29106          臺中市太平區東平段191-12地號             79.73                  79.73   \n",
      "29107          臺中市太平區東平段191-13地號             82.44                  82.44   \n",
      "29108             臺中市西屯區惠民段114地號              9.58                   9.58   \n",
      "29109             臺中市西屯區惠民段114地號              9.58                   9.58   \n",
      "29110             臺中市西屯區惠民段114地號              6.73                   6.73   \n",
      "\n",
      "      /預售屋/主要用途 /預售屋/主要建材  /預售屋/交易年月日  /預售屋/交易年月日/#agg /預售屋/交易筆棟數  \\\n",
      "0       見其他登記事項    鋼筋混凝土造     1120811          1120811  土地1建物1車位0   \n",
      "1           住家用    鋼筋混凝土造     1120811          1120811  土地4建物1車位1   \n",
      "2           住家用    鋼筋混凝土造     1120811          1120811  土地1建物1車位1   \n",
      "3           住家用    鋼筋混凝土造     1120811          1120811  土地1建物1車位1   \n",
      "4           住家用    鋼筋混凝土造     1120812          1120812  土地1建物1車位1   \n",
      "...         ...       ...         ...              ...        ...   \n",
      "29106       住家用    鋼筋混凝土造     1130809          1130809  土地1建物1車位0   \n",
      "29107       住家用    鋼筋混凝土造     1130809          1130809  土地1建物1車位0   \n",
      "29108       住家用   見其他登記事項     1130810          1130810  土地1建物1車位1   \n",
      "29109       住家用   見其他登記事項     1130810          1130810  土地1建物1車位1   \n",
      "29110       住家用   見其他登記事項     1130810          1130810  土地1建物1車位1   \n",
      "\n",
      "          /預售屋/交易標的 /預售屋/有無管理組織  ...  /預售屋/單價元平方公尺  /預售屋/單價元平方公尺/#agg  \\\n",
      "0         房地(土地+建物)           無  ...      141819.0           141819.0   \n",
      "1      房地(土地+建物)+車位           無  ...       65712.0            65712.0   \n",
      "2      房地(土地+建物)+車位           無  ...       94224.0            94224.0   \n",
      "3      房地(土地+建物)+車位           無  ...       93522.0            93522.0   \n",
      "4      房地(土地+建物)+車位           無  ...       76544.0            76544.0   \n",
      "...             ...         ...  ...           ...                ...   \n",
      "29106     房地(土地+建物)           無  ...      117026.0           117026.0   \n",
      "29107     房地(土地+建物)           無  ...      120033.0           120033.0   \n",
      "29108  房地(土地+建物)+車位           無  ...      226960.0           226960.0   \n",
      "29109  房地(土地+建物)+車位           無  ...      226960.0           226960.0   \n",
      "29110  房地(土地+建物)+車位           無  ...      215713.0           215713.0   \n",
      "\n",
      "       /預售屋/棟及號  /預售屋/鄉鎮市區 /預售屋/解約情形              /預售屋/編號  /預售屋/總價元  \\\n",
      "0          A棟0號        北屯區       NaN  RPUNMLLKQHIGFBB87CB  36500000   \n",
      "1          K棟0號        新社區       NaN  RPQNMLLKQHIGFGB97CB  19500000   \n",
      "2        C1棟4F號        豐原區       NaN  RPRNMLOKQHIGFDB08CB   7900000   \n",
      "3        B2棟3F號        豐原區       NaN  RPSNMLOKQHIGFDB18CB   8200000   \n",
      "4          C棟8號        梧棲區       NaN  RPQNMLOKQHIGFFB18CB   9250000   \n",
      "...         ...        ...       ...                  ...       ...   \n",
      "29106      B棟2號        太平區       NaN  RPRQMLQJRHJGFJB66CB  23500000   \n",
      "29107      B棟3號        太平區       NaN  RPSQMLQJRHJGFJB76CB  23500000   \n",
      "29108  A02-12F號        西屯區       NaN  RPPNMLRJRHJGFCB18CB  28560000   \n",
      "29109  A02-14F號        西屯區       NaN  RPQNMLRJRHJGFCB28CB  28360000   \n",
      "29110  A13-13F號        西屯區       NaN  RPRNMLRJRHJGFCB38CB  19260000   \n",
      "\n",
      "      /預售屋/總價元/#agg  /預售屋/總樓層數  /預售屋/總樓層數/#agg  \n",
      "0          36500000          5               5  \n",
      "1          19500000          4               4  \n",
      "2           7900000          7               7  \n",
      "3           8200000          7               7  \n",
      "4           9250000         15              15  \n",
      "...             ...        ...             ...  \n",
      "29106      23500000          3               3  \n",
      "29107      23500000          3               3  \n",
      "29108      28560000         36              36  \n",
      "29109      28360000         36              36  \n",
      "29110      19260000         36              36  \n",
      "\n",
      "[29111 rows x 42 columns]\n"
     ]
    }
   ],
   "source": [
    "import numpy as np\n",
    "import pandas as pd\n",
    "from sklearn.model_selection import train_test_split\n",
    "from sklearn.preprocessing import StandardScaler\n",
    "from sklearn.metrics import mean_squared_error, r2_score\n",
    "import matplotlib.pyplot as plt\n",
    "from tensorflow.keras.models import Sequential\n",
    "from tensorflow.keras.layers import Dense\n",
    "from tensorflow.keras.layers import Dropout, BatchNormalization\n",
    "import seaborn as sns\n",
    "import smogn\n",
    "from sklearn.preprocessing import LabelEncoder\n",
    "\n",
    "\n",
    "# 讀取 Excel 表\n",
    "df1 = pd.read_excel('/Users/ccit0915/Desktop/迴歸分析/回歸分析期末報告/台中市預售屋買賣資料11204.xlsx')\n",
    "df2 = pd.read_excel('/Users/ccit0915/Desktop/迴歸分析/回歸分析期末報告/台中市預售屋買賣資料11301.xlsx')\n",
    "df3 = pd.read_excel('/Users/ccit0915/Desktop/迴歸分析/回歸分析期末報告/台中市預售屋買賣資料11302.xlsx')\n",
    "df4 = pd.read_excel('/Users/ccit0915/Desktop/迴歸分析/回歸分析期末報告/台中市預售屋買賣資料11303.xlsx')\n",
    "\n",
    "\n",
    "# 合併 DataFrame\n",
    "df = pd.concat([df1, df2, df3, df4], ignore_index=True)\n",
    "\n",
    "# 顯示合併後的 DataFrame\n",
    "print(df)"
   ]
  },
  {
   "cell_type": "code",
   "execution_count": 8,
   "id": "9e33ea24-9254-419a-9719-3637f40608df",
   "metadata": {
    "tags": []
   },
   "outputs": [],
   "source": [
    "df.drop(columns=['/預售屋/土地移轉總面積平方公尺/#agg'], inplace=True)\n",
    "df.drop(columns=['/預售屋/交易年月日/#agg'], inplace=True)\n",
    "df.drop(columns=['/預售屋/單價元平方公尺/#agg'], inplace=True)\n",
    "df.drop(columns=['/預售屋/總價元/#agg'], inplace=True)\n",
    "df.drop(columns=['/預售屋/總樓層數/#agg'], inplace=True)\n",
    "df.drop(columns=['/預售屋/車位移轉總面積平方公尺/#agg'], inplace=True)\n",
    "df.drop(columns=['/預售屋/車位總價元/#agg'], inplace=True)\n",
    "df.drop(columns=['/預售屋/建物現況格局-房/#agg'], inplace=True)\n",
    "df.drop(columns=['/預售屋/建物現況格局-廳/#agg'], inplace=True)\n",
    "df.drop(columns=['/預售屋/建物現況格局-衛/#agg'], inplace=True)\n",
    "df.drop(columns=['/預售屋/建物移轉總面積平方公尺/#agg'], inplace=True)\n",
    "df.drop(columns=['/預售屋/土地位置建物門牌'], inplace=True)\n",
    "df.drop(columns=['/預售屋/有無管理組織'], inplace=True)\n",
    "df.drop(columns=['/預售屋/棟及號'], inplace=True)\n",
    "df.drop(columns=['/預售屋/解約情形'], inplace=True)\n",
    "df.drop(columns=['/預售屋/編號'], inplace=True)\n",
    "df.drop(columns=['/預售屋/建案名稱'], inplace=True)\n",
    "df.drop(columns=['/預售屋/建築完成年月'], inplace=True)\n",
    "df.drop(columns=['/預售屋/備註'], inplace=True)\n",
    "df.drop(columns=['/預售屋/非都市土地使用分區'], inplace=True)\n",
    "df.drop(columns=['/預售屋/非都市土地使用編定'], inplace=True)\n",
    "df.drop(columns=['/預售屋/交易年月日'], inplace=True)"
   ]
  },
  {
   "cell_type": "code",
   "execution_count": 10,
   "id": "5255cebc-cb48-4565-bb7f-14d1fdec5bdf",
   "metadata": {
    "tags": []
   },
   "outputs": [
    {
     "name": "stdout",
     "output_type": "stream",
     "text": [
      "/預售屋/車位類別        2455\n",
      "/預售屋/都市土地使用分區    1273\n",
      "/預售屋/單價元平方公尺       10\n",
      "/預售屋/鄉鎮市區          11\n",
      "dtype: int64\n"
     ]
    }
   ],
   "source": [
    "# 檢查缺失值\n",
    "missing_values = df.isnull().sum()\n",
    "\n",
    "# 顯示有缺失值的欄位\n",
    "missing_columns = missing_values[missing_values > 0]\n",
    "print(missing_columns)"
   ]
  },
  {
   "cell_type": "code",
   "execution_count": 12,
   "id": "725fa607-34b8-4038-8b6f-134cbe47feb6",
   "metadata": {
    "tags": []
   },
   "outputs": [
    {
     "name": "stdout",
     "output_type": "stream",
     "text": [
      "Series([], dtype: int64)\n"
     ]
    }
   ],
   "source": [
    "# 刪除目標變數缺失值的10筆記錄\n",
    "df = df.dropna(subset=[\"/預售屋/單價元平方公尺\"])\n",
    "\n",
    "# 將缺失值填入 \"0\" 表示無車位\n",
    "df[\"/預售屋/車位類別\"] = df[\"/預售屋/車位類別\"].fillna(\"0\")\n",
    "\n",
    "# 以眾數填入缺失值\n",
    "mode_value = df[\"/預售屋/都市土地使用分區\"].mode()[0]\n",
    "df[\"/預售屋/都市土地使用分區\"] = df[\"/預售屋/都市土地使用分區\"].fillna(mode_value)\n",
    "\n",
    "# 刪除/預售屋/鄉鎮市區的缺失11筆記錄\n",
    "df = df.dropna(subset=[\"/預售屋/鄉鎮市區\"])\n",
    "\n",
    "# 檢查缺失值\n",
    "missing_values = df.isnull().sum()\n",
    "\n",
    "# 顯示有缺失值的欄位\n",
    "missing_columns = missing_values[missing_values > 0]\n",
    "print(missing_columns)"
   ]
  },
  {
   "cell_type": "code",
   "execution_count": 14,
   "id": "6b085de0-7412-43be-9262-b5a3af1ba3ea",
   "metadata": {
    "tags": []
   },
   "outputs": [],
   "source": [
    "df.drop(columns=['/預售屋/總價元'], inplace=True)"
   ]
  },
  {
   "cell_type": "code",
   "execution_count": 16,
   "id": "8aa0f250-abe8-43f6-b9fd-0977fb9619c6",
   "metadata": {
    "tags": []
   },
   "outputs": [],
   "source": [
    "# 定義中英對應字典\n",
    "column_name_map = {\n",
    "    '/預售屋/土地移轉總面積平方公尺': 'Land Transfer Area (sqm)',\n",
    "    '/預售屋/主要用途': 'Main Use',\n",
    "    '/預售屋/主要建材': 'Main Materials',\n",
    "    '/預售屋/交易筆棟數': 'Transaction Volume',\n",
    "    '/預售屋/交易標的': 'Transaction Target',\n",
    "    '/預售屋/車位移轉總面積平方公尺': 'Parking Transfer Area (sqm)',\n",
    "    '/預售屋/車位總價元': 'Parking Price',\n",
    "    '/預售屋/車位類別': 'Parking Type',\n",
    "    '/預售屋/建物型態': 'Building Type',\n",
    "    '/預售屋/建物現況格局-房': 'House Layout - Room',\n",
    "    '/預售屋/建物現況格局-隔間': 'House Layout - Partition',\n",
    "    '/預售屋/建物現況格局-衛': 'House Layout - Bathroom',\n",
    "    '/預售屋/建物現況格局-廳': 'House Layout - Living Room',\n",
    "    '/預售屋/建物移轉總面積平方公尺': 'Building Transfer Area (sqm)',\n",
    "    '/預售屋/移轉層次': 'Transfer Level',\n",
    "    '/預售屋/都市土地使用分區': 'Urban Land Use Zone',\n",
    "    '/預售屋/單價元平方公尺': 'Unit Price (per sqm)',\n",
    "    '/預售屋/鄉鎮市區': 'Township/District',\n",
    "    '/預售屋/總樓層數': 'Total Floors'\n",
    "}\n",
    "df.rename(columns=column_name_map, inplace=True)"
   ]
  },
  {
   "cell_type": "code",
   "execution_count": 18,
   "id": "8d917513-b478-46a6-82fa-03c571d3da8f",
   "metadata": {
    "tags": []
   },
   "outputs": [],
   "source": [
    "from sklearn.model_selection import train_test_split\n",
    "from sklearn.preprocessing import LabelEncoder\n",
    "import pandas as pd\n",
    "\n",
    "# 定義特徵和目標變數\n",
    "X = df.drop(columns=['Unit Price (per sqm)'])  # 將目標變數從特徵集中移除\n",
    "y = df['Unit Price (per sqm)']                # 定義目標變數\n",
    "\n",
    "# 切割數據集，80% 用於訓練，20% 用於測試\n",
    "X_train, X_test, y_train, y_test = train_test_split(X, y, test_size=0.2, random_state=42)\n",
    "\n",
    "# 假設原始資料在 DataFrame 中，地區欄位為 \"Township/District\"\n",
    "freq_map_township = (\n",
    "    X_train[\"Township/District\"]\n",
    "    .value_counts(normalize=True)  # 計算頻率\n",
    "    .to_dict()  # 轉換為字典\n",
    ")\n",
    "\n",
    "# 初始化 LabelEncoder\n",
    "label_encoder = LabelEncoder()\n",
    "\n",
    "# 1. 標籤編碼（修正未知類別處理）\n",
    "categorical_features = [\n",
    "    \"Main Use\",\n",
    "    \"Main Materials\",\n",
    "    \"Transaction Target\",\n",
    "    \"House Layout - Partition\",\n",
    "    \"Urban Land Use Zone\"\n",
    "]\n",
    "# 1. 標籤編碼（將未知類別填補為 1）\n",
    "for feature in categorical_features:\n",
    "    # 對訓練集進行標籤編碼\n",
    "    X_train[f\"{feature}_encoded\"] = label_encoder.fit_transform(X_train[feature].copy())\n",
    "    # 測試集應用相同的映射，對未見過的類別填補為 -1\n",
    "    label_mapping = {label: idx for idx, label in enumerate(label_encoder.classes_)}\n",
    "    X_test[f\"{feature}_encoded\"] = X_test[feature].map(label_mapping).fillna(-1)\n",
    "\n",
    "# 2. 頻率編碼\n",
    "frequency_features = [\n",
    "    \"Transaction Volume\",\n",
    "    \"Building Type\",\n",
    "    \"Township/District\", \n",
    "    \"Transfer Level\"\n",
    "]\n",
    "\n",
    "for feature in frequency_features:\n",
    "    # 計算頻率映射表\n",
    "    freq_map = X_train[feature].value_counts(normalize=True)\n",
    "    # 對訓練集應用頻率映射\n",
    "    X_train[f\"{feature}_freq\"] = X_train[feature].map(freq_map).fillna(1)  # 填補為 1\n",
    "    # 對測試集應用頻率映射，對未知值填補為 -1\n",
    "    X_test[f\"{feature}_freq\"] = X_test[feature].map(freq_map).fillna(-1)  # 填補為 1\n",
    "\n",
    "\n",
    "# 3. 目標編碼\n",
    "target_encoding_features = [(\"Parking Type\", X_train[\"Parking Price\"])]\n",
    "\n",
    "for feature, target in target_encoding_features:\n",
    "    # 計算基於 Parking Price 的目標編碼均值\n",
    "    target_map = X_train.groupby(feature)[target.name].mean()\n",
    "    # 對訓練集進行目標編碼\n",
    "    X_train[f\"{feature}_encoded\"] = X_train[feature].map(target_map)\n",
    "    # 測試集目標編碼，對未知值填補為整體 Parking Price 均值\n",
    "    X_test[f\"{feature}_encoded\"] = X_test[feature].map(target_map).fillna(target.mean())\n",
    "\n",
    "# 移除原始特徵以避免資料洩漏\n",
    "X_train = X_train.drop(columns=categorical_features + frequency_features)\n",
    "X_test = X_test.drop(columns=categorical_features + frequency_features)"
   ]
  },
  {
   "cell_type": "code",
   "execution_count": 20,
   "id": "60040bd4-ca55-475d-8e16-655a302c8070",
   "metadata": {
    "tags": []
   },
   "outputs": [],
   "source": [
    "X_train.drop(columns=['Parking Type'], inplace=True)\n",
    "X_test.drop(columns=['Parking Type'], inplace=True)"
   ]
  },
  {
   "cell_type": "code",
   "execution_count": 22,
   "id": "02329bdd-802f-4873-8bfb-218405c79599",
   "metadata": {
    "tags": []
   },
   "outputs": [
    {
     "data": {
      "text/plain": [
       "{'北屯區': 0.17600550017188038,\n",
       " '西屯區': 0.14644207631488484,\n",
       " '太平區': 0.09543657614300446,\n",
       " '南屯區': 0.0812564455139223,\n",
       " '沙鹿區': 0.06974046063939499,\n",
       " '烏日區': 0.06342385699553112,\n",
       " '梧棲區': 0.059470608456514265,\n",
       " '南區': 0.052939154348573395,\n",
       " '清水區': 0.03983327603987625,\n",
       " '大里區': 0.03235647988999656,\n",
       " '龍井區': 0.03016500515641114,\n",
       " '豐原區': 0.022172567892746648,\n",
       " '北區': 0.021055345479546236,\n",
       " '潭子區': 0.018863870745960812,\n",
       " '后里區': 0.013234788587143349,\n",
       " '大甲區': 0.012332416638019938,\n",
       " '東區': 0.010570642832588519,\n",
       " '外埔區': 0.010097971811619113,\n",
       " '西區': 0.010055001718803712,\n",
       " '神岡區': 0.009324510140941905,\n",
       " '大雅區': 0.007047095221725679,\n",
       " '大肚區': 0.006101753179786868,\n",
       " '中區': 0.004640770024063252,\n",
       " '霧峰區': 0.0024063251976624267,\n",
       " '東勢區': 0.0021914747335854247,\n",
       " '大安區': 0.0014609831557236164,\n",
       " '新社區': 0.001074252320385012,\n",
       " '石岡區': 0.00030079064970780334}"
      ]
     },
     "execution_count": 22,
     "metadata": {},
     "output_type": "execute_result"
    }
   ],
   "source": [
    "freq_map_township"
   ]
  },
  {
   "cell_type": "code",
   "execution_count": 24,
   "id": "cbfcfdb2-c6e5-4a04-ace6-a9f8fde8fb5f",
   "metadata": {
    "tags": []
   },
   "outputs": [
    {
     "name": "stdout",
     "output_type": "stream",
     "text": [
      "訓練集 R²：0.9901\n",
      "訓練集 Ra²：0.9901\n",
      "測試集 R²：0.9614\n",
      "測試集 Ra²：0.9614\n"
     ]
    }
   ],
   "source": [
    "import numpy as np\n",
    "from sklearn.ensemble import RandomForestRegressor\n",
    "from sklearn.metrics import r2_score\n",
    "import matplotlib.pyplot as plt\n",
    "\n",
    "# 定義前五個重要特徵\n",
    "important_features = [\n",
    "    'Township/District_freq',  # 重要性：0.630906\n",
    "    'Parking Price',           # 重要性：0.165049\n",
    "    'Total Floors',            # 重要性：0.057787\n",
    "    'Land Transfer Area (sqm)', # 重要性：0.035245\n",
    "    'Building Transfer Area (sqm)' # 重要性：0.022468\n",
    "]\n",
    "\n",
    "# 使用這些特徵作為 X\n",
    "X_train_subset = X_train[important_features]\n",
    "X_test_subset = X_test[important_features]\n",
    "\n",
    "# 創建並訓練隨機森林回歸模型\n",
    "model = RandomForestRegressor(random_state=42)\n",
    "model.fit(X_train_subset, y_train)\n",
    "\n",
    "# 預測\n",
    "y_train_pred = model.predict(X_train_subset)\n",
    "y_test_pred = model.predict(X_test_subset)\n",
    "\n",
    "# 計算 R^2 分數\n",
    "train_r2 = r2_score(y_train, y_train_pred)\n",
    "test_r2 = r2_score(y_test, y_test_pred)\n",
    "\n",
    "# 計算調整後的 R²\n",
    "n_train = X_train_subset.shape[0]  # 訓練集樣本數\n",
    "n_test = X_test_subset.shape[0]    # 測試集樣本數\n",
    "p = X_train_subset.shape[1]        # 特徵數\n",
    "\n",
    "train_ra2 = 1 - (1 - train_r2) * (n_train - 1) / (n_train - p - 1)\n",
    "test_ra2 = 1 - (1 - test_r2) * (n_test - 1) / (n_test - p - 1)\n",
    "\n",
    "# 顯示結果\n",
    "print(f\"訓練集 R²：{train_r2:.4f}\")\n",
    "print(f\"訓練集 Ra²：{train_ra2:.4f}\")\n",
    "print(f\"測試集 R²：{test_r2:.4f}\")\n",
    "print(f\"測試集 Ra²：{test_ra2:.4f}\")"
   ]
  },
  {
   "cell_type": "code",
   "execution_count": 26,
   "id": "9e21a65a-a0a8-4700-8631-575341997ab3",
   "metadata": {
    "tags": []
   },
   "outputs": [
    {
     "data": {
      "application/vnd.jupyter.widget-view+json": {
       "model_id": "9f2dcd6d780043e4a8ee83baffb6fcde",
       "version_major": 2,
       "version_minor": 0
      },
      "text/plain": [
       "interactive(children=(Dropdown(description='地區名稱', options=('北屯區', '西屯區', '太平區', '南屯區', '沙鹿區', '烏日區', '梧棲區', '…"
      ]
     },
     "metadata": {},
     "output_type": "display_data"
    }
   ],
   "source": [
    "import pandas as pd\n",
    "from ipywidgets import Layout\n",
    "from ipywidgets import interact, Dropdown, FloatText, IntText, fixed\n",
    "\n",
    "# freq_map_township 定義\n",
    "freq_map_township = {\n",
    "    '北屯區': 0.17600550017188038,\n",
    "    '西屯區': 0.14644207631488484,\n",
    "    '太平區': 0.09543657614300446,\n",
    "    '南屯區': 0.0812564455139223,\n",
    "    '沙鹿區': 0.06974046063939499,\n",
    "    '烏日區': 0.06342385699553112,\n",
    "    '梧棲區': 0.059470608456514265,\n",
    "    '南區': 0.052939154348573395,\n",
    "    '清水區': 0.03983327603987625,\n",
    "    '大里區': 0.03235647988999656,\n",
    "    '龍井區': 0.03016500515641114,\n",
    "    '豐原區': 0.022172567892746648,\n",
    "    '北區': 0.021055345479546236,\n",
    "    '潭子區': 0.018863870745960812,\n",
    "    '后里區': 0.013234788587143349,\n",
    "    '大甲區': 0.012332416638019938,\n",
    "    '東區': 0.010570642832588519,\n",
    "    '外埔區': 0.010097971811619113,\n",
    "    '西區': 0.010055001718803712,\n",
    "    '神岡區': 0.009324510140941905,\n",
    "    '大雅區': 0.007047095221725679,\n",
    "    '大肚區': 0.006101753179786868,\n",
    "    '中區': 0.004640770024063252,\n",
    "    '霧峰區': 0.0024063251976624267,\n",
    "    '東勢區': 0.0021914747335854247,\n",
    "    '大安區': 0.0014609831557236164,\n",
    "    '新社區': 0.001074252320385012,\n",
    "    '石岡區': 0.00030079064970780334\n",
    "}\n",
    "\n",
    "# 模型預測函數\n",
    "def predict_with_model_ui(township_name, parking_price, total_floors, land_area, building_area, model):\n",
    "    \"\"\"\n",
    "    使用模型進行預測，並將每平方公尺價格轉為每坪價格。\n",
    "    \"\"\"\n",
    "    # 處理 Township Name\n",
    "    township_freq = freq_map_township.get(township_name, None)\n",
    "    if township_freq is None:\n",
    "        raise ValueError(f\"地區名稱 '{township_name}' 不在映射表中！請檢查輸入。\")\n",
    "\n",
    "    # 使用輸入的車位價格\n",
    "    # 當車位價格為0時表示沒有車位需求\n",
    "\n",
    "    # 構建輸入數據\n",
    "    input_data = pd.DataFrame([{\n",
    "        'Township/District_freq': township_freq,\n",
    "        'Parking Price': parking_price,\n",
    "        'Total Floors': total_floors,\n",
    "        'Land Transfer Area (sqm)': land_area,\n",
    "        'Building Transfer Area (sqm)': building_area\n",
    "    }])\n",
    "\n",
    "    # 使用模型進行預測\n",
    "    prediction_per_sqm = model.predict(input_data)[0]\n",
    "\n",
    "\n",
    "    return f\"試算結果：每平方公尺價格為 {prediction_per_sqm:.2f} 元\"\n",
    "\n",
    "# 下拉選單和互動式輸入\n",
    "def interactive_prediction(model):\n",
    "    # 創建UI元件\n",
    "    parking_price = FloatText(\n",
    "        value=0,\n",
    "        description=\"車位預算\"\n",
    "    )\n",
    "\n",
    "    # 使用interact創建互動式UI\n",
    "    interactive_ui = interact(\n",
    "        predict_with_model_ui,\n",
    "        township_name=Dropdown(\n",
    "            options=list(freq_map_township.keys()),\n",
    "            description=\"地區名稱\"\n",
    "        ),\n",
    "        parking_price=parking_price,\n",
    "        total_floors=IntText(\n",
    "            value=15,\n",
    "            description=\"總樓層數\"\n",
    "        ),\n",
    "        land_area=FloatText(\n",
    "            value=50.0,\n",
    "            description=\"土地移轉面積(平方公尺)\",\n",
    "        ),\n",
    "        building_area=FloatText(\n",
    "            value=80.0,\n",
    "            description=\"建物移轉面積(平方公尺)\",\n",
    "        ),\n",
    "        model=fixed(model)\n",
    "    )\n",
    "\n",
    "# 試算\n",
    "interactive_prediction(model=model)"
   ]
  },
  {
   "cell_type": "code",
   "execution_count": null,
   "id": "87cbbd6b-3b1d-4724-a04f-aa6381e5487f",
   "metadata": {},
   "outputs": [],
   "source": []
  }
 ],
 "metadata": {
  "kernelspec": {
   "display_name": "Python [conda env:base] *",
   "language": "python",
   "name": "conda-base-py"
  },
  "language_info": {
   "codemirror_mode": {
    "name": "ipython",
    "version": 3
   },
   "file_extension": ".py",
   "mimetype": "text/x-python",
   "name": "python",
   "nbconvert_exporter": "python",
   "pygments_lexer": "ipython3",
   "version": "3.11.0"
  }
 },
 "nbformat": 4,
 "nbformat_minor": 5
}
